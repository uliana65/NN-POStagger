{
 "cells": [
  {
   "cell_type": "code",
   "execution_count": 2,
   "id": "b45618a5",
   "metadata": {},
   "outputs": [],
   "source": [
    "import numpy as np\n",
    "import torch.nn as nn\n",
    "import torch\n",
    "from torch.nn import Module\n",
    "import data_loader\n",
    "import torch.optim as optim\n",
    "from tqdm import tqdm"
   ]
  },
  {
   "cell_type": "markdown",
   "id": "4fc26e73",
   "metadata": {},
   "source": [
    "# DATA PREP"
   ]
  },
  {
   "cell_type": "code",
   "execution_count": 3,
   "id": "2a220390",
   "metadata": {},
   "outputs": [],
   "source": [
    "# specify file names of the CoNLL corpus \n",
    "train_dataloader, dev_dataloader, test_dataloader, vocabulary, tagset, pretrained_embeddings = data_loader.load(\"UD_German-GSD-master/de_gsd-ud-train.conllu\", \n",
    "                                                                                                                \"UD_German-GSD-master/de_gsd-ud-dev.conllu\", \n",
    "                                                                                                                \"UD_German-GSD-master/de_gsd-ud-test.conllu\")\n",
    "\n",
    "# create embeddings with size (length_vocabulary, 300)\n",
    "embedding = torch.nn.Embedding(num_embeddings=len(vocabulary), embedding_dim=300)\n",
    "embedding.weight.data = pretrained_embeddings\n",
    "embedding.weight.requires_grad = False"
   ]
  },
  {
   "cell_type": "markdown",
   "id": "ca542fe4",
   "metadata": {},
   "source": [
    "# SAMPLE DATA EXPLORATION"
   ]
  },
  {
   "cell_type": "code",
   "execution_count": 4,
   "id": "0b440b68",
   "metadata": {},
   "outputs": [
    {
     "data": {
      "text/plain": [
       "{'sentence': tensor([   58,   282,   443,     3,  2300, 20144,     4,   806,     3,    61,\n",
       "           948,    45,   171,  4091,    57,     2]),\n",
       " 'tags': tensor([7, 6, 0, 1, 6, 0, 2, 0, 1, 7, 5, 8, 8, 0, 3, 1])}"
      ]
     },
     "execution_count": 4,
     "metadata": {},
     "output_type": "execute_result"
    }
   ],
   "source": [
    "# a sentence tensor with token embeddings and tag IDs\n",
    "sample = train_dataloader.dataset[0]\n",
    "sample"
   ]
  },
  {
   "cell_type": "code",
   "execution_count": 5,
   "id": "2a0ddf27",
   "metadata": {
    "scrolled": true
   },
   "outputs": [
    {
     "data": {
      "text/plain": [
       "['sehr',\n",
       " 'gute',\n",
       " 'beratung',\n",
       " ',',\n",
       " 'schnelle',\n",
       " 'behebung',\n",
       " 'der',\n",
       " 'probleme',\n",
       " ',',\n",
       " 'so',\n",
       " 'stelle',\n",
       " 'ich',\n",
       " 'mir',\n",
       " 'kundenservice',\n",
       " 'vor',\n",
       " '</s>']"
      ]
     },
     "execution_count": 5,
     "metadata": {},
     "output_type": "execute_result"
    }
   ],
   "source": [
    "# same sentence with words; </s> is for the sentence end\n",
    "vocabulary.lookup_tokens(list(sample[\"sentence\"]))"
   ]
  },
  {
   "cell_type": "code",
   "execution_count": 6,
   "id": "636f2aa9",
   "metadata": {},
   "outputs": [
    {
     "data": {
      "text/plain": [
       "['ADV',\n",
       " 'ADJ',\n",
       " 'NOUN',\n",
       " 'PUNCT',\n",
       " 'ADJ',\n",
       " 'NOUN',\n",
       " 'DET',\n",
       " 'NOUN',\n",
       " 'PUNCT',\n",
       " 'ADV',\n",
       " 'VERB',\n",
       " 'PRON',\n",
       " 'PRON',\n",
       " 'NOUN',\n",
       " 'ADP',\n",
       " 'PUNCT']"
      ]
     },
     "execution_count": 6,
     "metadata": {},
     "output_type": "execute_result"
    }
   ],
   "source": [
    "# same sentence POS tags\n",
    "tagset.lookup_tokens(list(sample[\"tags\"]))"
   ]
  },
  {
   "cell_type": "markdown",
   "id": "fb8712d3",
   "metadata": {},
   "source": [
    "# MODEL CLASS"
   ]
  },
  {
   "cell_type": "code",
   "execution_count": 57,
   "id": "9fc1b8ae",
   "metadata": {},
   "outputs": [],
   "source": [
    "class NNTagger(nn.Module):\n",
    "    \"\"\"\n",
    "    A POS tagger for the German sentences.\n",
    "    Predicts POS tag for a tensor of embeddings of words.\n",
    "    A 1 layer LSTM.\n",
    "    \"\"\"\n",
    "    \n",
    "    # params of the model\n",
    "    def __init__(self,\n",
    "                input_size: int,\n",
    "                number_tags: int,\n",
    "                hidden_size: int):\n",
    "        \"\"\"\n",
    "\n",
    "        :param input_size: the size of the input layer - length (n. of cols) of an input tensor; must be equal to embedding length\n",
    "        :param number_tags: the length of POS tag set - length (n. of cols) of an output;\n",
    "        :param hidden_size: the size of the hidden layer\n",
    "        \"\"\"\n",
    "        super(NNTagger, self).__init__()\n",
    "\n",
    "        self.layer1 = nn.LSTM(input_size=input_size, hidden_size=hidden_size, num_layers=1, batch_first=True) #[inp=300, out=300]; hidden_size - number of hidden units\n",
    "        self.layer2 = nn.Linear(in_features=hidden_size, out_features=number_tags) #[inp=300, out=18]\n",
    "        \n",
    "        \n",
    "    # feed-forward function\n",
    "    def forward(self, \n",
    "                input_sent):\n",
    "        \"\"\"\n",
    "        Gets an input batch and feeds it through the layers of the network to get the output predictions for each input\n",
    "        :param input_sent: a batch of tensors corresponding to sentences; shape: (batch_size, sentence_length, embedding_length)\n",
    "        :return: the predictions of the model; shape: (batch_size, sentence_length, number_tags)\n",
    "        \"\"\"\n",
    "        # feed input batch into the lstm layer\n",
    "        out_lstm_layer, _ = self.layer1(input_sent)\n",
    "\n",
    "        # feed output of lstm layer to the linear layer\n",
    "        out_linear_layer = self.layer2(out_lstm_layer)\n",
    "\n",
    "        return out_linear_layer\n"
   ]
  },
  {
   "cell_type": "markdown",
   "id": "32020aff",
   "metadata": {},
   "source": [
    "# TRAINING FUNCTION"
   ]
  },
  {
   "cell_type": "code",
   "execution_count": 58,
   "id": "2fc673e7",
   "metadata": {},
   "outputs": [],
   "source": [
    "def train_model(model: Module, \n",
    "                train_data, dev_data,\n",
    "                num_epochs: int,\n",
    "                optimizer_type,\n",
    "                loss_function,\n",
    "                learning_rate: float,\n",
    "                embedding) -> None:\n",
    "    \"\"\"\n",
    "    Does one commplete training run for N epochs\n",
    "    :param model: a pytorch model\n",
    "    :param train_data: a dataloader for getting the training instances\n",
    "    :param num_epochs: the number of epochs\n",
    "    :param optimizer_type: the type of optimizer\n",
    "    :param loss_function: the type of the loss function\n",
    "    :param learning_rate: the learning rate for the optimizer\n",
    "    :param embedding: embedding object with size (vocab_length, 300)\n",
    "    :return:\n",
    "    \"\"\"\n",
    "    \n",
    "    # for stats\n",
    "    loss_per_epoch = []\n",
    "    train_acc_per_epoch = []\n",
    "    dev_acc_per_epoch = []\n",
    "   \n",
    "    # brings model into training mode\n",
    "    model.train()\n",
    "\n",
    "    optimizer = optimizer_type(params=model.parameters(), lr=learning_rate)\n",
    "\n",
    "    # runs training for specified number of epochs\n",
    "    for epoch in tqdm(range(num_epochs)):\n",
    "        \n",
    "        loss_total = 0\n",
    "        sent_total = 0\n",
    "\n",
    "        for sent in train_data:\n",
    "            \n",
    "            # transforms one-hot encoding into embedding tensor\n",
    "            input_sent = torch.stack([embedding.weight.data[word] for word in sent[0][0]])\n",
    "            # wraps into one more tensor to keep the right dimentionality: (batch_size=1, sent_length, embedding_length)\n",
    "            input_sent = torch.stack([input_sent])\n",
    "\n",
    "            # computes model predictions with current model parameters\n",
    "            model_output = model(input_sent)\n",
    "\n",
    "            # computes Loss for current sent\n",
    "            loss = loss_function(input=model_output[0], target=sent[0][1])\n",
    "            loss_total += loss.item()\n",
    "            sent_total += 1\n",
    "\n",
    "            optimizer.zero_grad()\n",
    "\n",
    "            # back-propagate error \n",
    "            loss.backward()\n",
    "\n",
    "            # updates parameters\n",
    "            optimizer.step()\n",
    "        \n",
    "        train_acc, dev_acc = evaluate(tagger, [train_data, dev_data])\n",
    "        train_acc_per_epoch.append(train_acc.item())\n",
    "        dev_acc_per_epoch.append(dev_acc.item())\n",
    "        loss_per_epoch.append(loss_total / sent_total)\n",
    "\n",
    "    return loss_per_epoch, train_acc_per_epoch, dev_acc_per_epoch"
   ]
  },
  {
   "cell_type": "markdown",
   "id": "c16a24c8",
   "metadata": {},
   "source": [
    "# EVALUATION FUNCTION"
   ]
  },
  {
   "cell_type": "code",
   "execution_count": 59,
   "id": "eef92688",
   "metadata": {},
   "outputs": [],
   "source": [
    "# brings model in evaluation mode\n",
    "def evaluate(model, eval_set):\n",
    "    tagger.eval()\n",
    "    \n",
    "    correct_preds = [0 for ds in eval_set]\n",
    "    num_tokens = [0 for ds in eval_set]\n",
    "    final_accs = [0 for ds in eval_set]\n",
    "    \n",
    "    with torch.no_grad():\n",
    "        for ds in range(len(eval_set)):\n",
    "            for sent in eval_set[ds]:\n",
    "\n",
    "                # model output of size (sent_length, num_tags), logit vals\n",
    "                input_sent = torch.stack([embedding.weight.data[word] for word in sent[0][0]])\n",
    "                input_sent = torch.stack([input_sent])\n",
    "                sent_pred = tagger(input_sent)\n",
    "                sent_pred = torch.sigmoid(sent_pred)\n",
    "                # prediction vector of size (1, pred_tag_inds)\n",
    "                sent_pred = torch.argmax(sent_pred, dim=2)\n",
    "\n",
    "                # target vec (1, tag_inds)\n",
    "                target_vec = sent[0][1]\n",
    "                num_tokens[ds] += len(target_vec)\n",
    "\n",
    "                # gets accuracy on the whole data\n",
    "                correct_preds[ds] += torch.sum(sent_pred == target_vec)\n",
    "        \n",
    "            final_accs[ds] = (correct_preds[ds] / num_tokens[ds]) * 100\n",
    "    \n",
    "            #print(f\"ACCURACY: {torch.round(final_accs[ds])}% in {ds} ds\")\n",
    "    return final_accs"
   ]
  },
  {
   "cell_type": "markdown",
   "id": "53a79623",
   "metadata": {},
   "source": [
    "# MODEL INITIALIZATION"
   ]
  },
  {
   "cell_type": "code",
   "execution_count": 83,
   "id": "d81fd8a9",
   "metadata": {},
   "outputs": [],
   "source": [
    "# create an instance of the model to train\n",
    "hidden_size = 150\n",
    "input_size = 300\n",
    "num_tags = len(tagset)\n",
    "\n",
    "tagger = NNTagger(input_size=input_size, number_tags=num_tags, hidden_size=hidden_size)\n",
    "\n",
    "\n",
    "### Hyperparameters ###\n",
    "\n",
    "epochs = 30\n",
    "learning_rate = 0.01\n",
    "optimizer = optim.Adam\n",
    "loss_function = nn.functional.cross_entropy"
   ]
  },
  {
   "cell_type": "markdown",
   "id": "1ee81d8c",
   "metadata": {},
   "source": [
    "# MODEL TRAINING"
   ]
  },
  {
   "cell_type": "code",
   "execution_count": 85,
   "id": "483a3505",
   "metadata": {},
   "outputs": [
    {
     "name": "stderr",
     "output_type": "stream",
     "text": [
      "100%|█████████████████████████████████████████████████████████████████████████████████| 10/10 [25:37<00:00, 153.75s/it]\n"
     ]
    }
   ],
   "source": [
    "# runs a complete training loop\n",
    "loss_per_epoch, train_acc_per_epoch, dev_acc_per_epoch = train_model(model=tagger, \n",
    "                                                                     train_data=train_dataloader, \n",
    "                                                                     dev_data=dev_dataloader, \n",
    "                                                                     num_epochs=epochs,\n",
    "                                                                     optimizer_type=optimizer, \n",
    "                                                                     loss_function=loss_function, \n",
    "                                                                     learning_rate=learning_rate, \n",
    "                                                                     embedding=embedding)"
   ]
  },
  {
   "cell_type": "code",
   "execution_count": 29,
   "id": "c9d2cc72",
   "metadata": {},
   "outputs": [],
   "source": [
    "import matplotlib.pyplot as plt"
   ]
  },
  {
   "cell_type": "code",
   "execution_count": 86,
   "id": "d1e10b23",
   "metadata": {},
   "outputs": [
    {
     "data": {
      "image/png": "[encoded data removed]",
      "text/plain": [
       "<Figure size 432x288 with 2 Axes>"
      ]
     },
     "metadata": {
      "needs_background": "light"
     },
     "output_type": "display_data"
    }
   ],
   "source": [
    "# visualize training\n",
    "\n",
    "plt.figure()\n",
    "\n",
    "x = [i for i in range(1, epochs+1, 1)]\n",
    "\n",
    "# training acc\n",
    "plt.subplot(221)\n",
    "plt.plot(x, train_acc_per_epoch, label=\"train\", color=\"blue\")\n",
    "plt.plot(x, dev_acc_per_epoch, label=\"dev\", color=\"red\")\n",
    "plt.title(f'Training and Development Accuracy (LR: {learning_rate}, HS: {hidden_size})')\n",
    "plt.grid(True)\n",
    "\n",
    "# development acc\n",
    "plt.subplot(222)\n",
    "plt.plot(x, loss_per_epoch, color=\"green\")\n",
    "plt.title('Loss')\n",
    "plt.grid(True)\n",
    "\n",
    "plt.subplots_adjust(top=1.99, bottom=0.08, left=0.10, right=1.95, hspace=0.0,\n",
    "                    wspace=0.35)\n",
    "\n",
    "plt.show()"
   ]
  },
  {
   "cell_type": "markdown",
   "id": "79a82a89",
   "metadata": {},
   "source": [
    "# EVALUATION ON TEST DATA"
   ]
  },
  {
   "cell_type": "code",
   "execution_count": 87,
   "id": "2ee378c1",
   "metadata": {},
   "outputs": [
    {
     "name": "stdout",
     "output_type": "stream",
     "text": [
      "Accuracy of test data: 89.93\n"
     ]
    }
   ],
   "source": [
    "test_acc = evaluate(tagger, [test_dataloader])\n",
    "print(f\"Accuracy of test data: {round(test_acc[0].item(), 2)}\")"
   ]
  },
  {
   "cell_type": "markdown",
   "id": "29209ea4",
   "metadata": {},
   "source": [
    "# SAVE AND LOAD MODEL PARAMS"
   ]
  },
  {
   "cell_type": "code",
   "execution_count": 56,
   "id": "e699f0bf",
   "metadata": {},
   "outputs": [],
   "source": [
    "# save the model parameters in a .pt file\n",
    "torch.save(tagger.state_dict(), \"./models/model_parameters_taggerLR01HS150.pt\")"
   ]
  },
  {
   "cell_type": "code",
   "execution_count": 84,
   "id": "4967a192",
   "metadata": {},
   "outputs": [],
   "source": [
    "# load trained model parameters again\n",
    "\n",
    "# first create an instance of the model class\n",
    "tagger = NNTagger(input_size=input_size, number_tags=num_tags, hidden_size=hidden_size)\n",
    "\n",
    "# then load the trained parameters\n",
    "tagger.load_state_dict(torch.load(\"./models/model_parameters_taggerLR01HS150.pt\"))\n",
    "epochs = 10"
   ]
  },
  {
   "cell_type": "markdown",
   "id": "59c396f5",
   "metadata": {},
   "source": [
    "# POS DISTR"
   ]
  },
  {
   "cell_type": "code",
   "execution_count": 88,
   "id": "51c746b7",
   "metadata": {},
   "outputs": [],
   "source": [
    "from collections import defaultdict"
   ]
  },
  {
   "cell_type": "code",
   "execution_count": 138,
   "id": "fb80d228",
   "metadata": {},
   "outputs": [],
   "source": [
    "def evaluate_pos(model, eval_set):\n",
    "    tagger.eval()\n",
    "    \n",
    "    correct_preds = [0 for ds in eval_set]\n",
    "    correct_preds_pos = defaultdict(int)\n",
    "    pos_num = defaultdict(int)\n",
    "    num_tokens = [0 for ds in eval_set]\n",
    "    final_accs = [0 for ds in eval_set]\n",
    "    \n",
    "    with torch.no_grad():\n",
    "        for ds in range(len(eval_set)):\n",
    "            for sent in eval_set[ds]:\n",
    "\n",
    "                # model output of size (sent_length, num_tags), logit vals\n",
    "                input_sent = torch.stack([embedding.weight.data[word] for word in sent[0][0]])\n",
    "                input_sent = torch.stack([input_sent])\n",
    "                sent_pred = tagger(input_sent)\n",
    "                sent_pred = torch.sigmoid(sent_pred)\n",
    "                # prediction vector of size (1, pred_tag_inds)\n",
    "                sent_pred = torch.argmax(sent_pred, dim=2)\n",
    "\n",
    "                # target vec (1, tag_inds)\n",
    "                target_vec = sent[0][1]\n",
    "                num_tokens[ds] += len(target_vec)\n",
    "\n",
    "                # gets accuracy on the whole data\n",
    "                for i in range(len(target_vec)):\n",
    "                    pos_num[target_vec[i].item()] += 1\n",
    "                    if sent_pred[0,i] == target_vec[i]:\n",
    "                        correct_preds_pos[target_vec[i].item()] += 1\n",
    "                \n",
    "        \n",
    "            final_accs[ds] = (correct_preds[ds] / num_tokens[ds]) * 100\n",
    "    \n",
    "            #print(f\"ACCURACY: {torch.round(final_accs[ds])}% in {ds} ds\")\n",
    "    for tag in correct_preds_pos:\n",
    "        correct_preds_pos[tag] /= pos_num[tag]\n",
    "    pos_total = sum([i for i in pos_num.values()])\n",
    "    \n",
    "    return correct_preds_pos, pos_num, pos_total"
   ]
  },
  {
   "cell_type": "code",
   "execution_count": 139,
   "id": "1a7f4534",
   "metadata": {},
   "outputs": [],
   "source": [
    "test_acc_pos, pos_num, pos_total = evaluate_pos(tagger, [test_dataloader])"
   ]
  },
  {
   "cell_type": "code",
   "execution_count": 132,
   "id": "7b93f703",
   "metadata": {},
   "outputs": [
    {
     "name": "stdout",
     "output_type": "stream",
     "text": [
      "DET: 0.95\n",
      "NOUN: 0.88\n",
      "AUX: 0.92\n",
      "ADP: 0.98\n",
      "PUNCT: 0.99\n",
      "CCONJ: 0.94\n",
      "PRON: 0.88\n",
      "ADJ: 0.85\n",
      "ADV: 0.75\n",
      "NUM: 0.82\n",
      "VERB: 0.82\n",
      "SCONJ: 0.77\n",
      "_: 0.99\n",
      "PROPN: 0.9\n",
      "PART: 0.82\n",
      "SYM: 0.5\n",
      "X: 0.04\n"
     ]
    }
   ],
   "source": [
    "pos = list(test_acc_pos.keys())\n",
    "pos_str = tagset.lookup_tokens(pos)\n",
    "for i in range(len(pos_str)):\n",
    "    print(f\"{pos_str[i]}: {round(test_acc_pos[pos[i]], 2)}\")"
   ]
  },
  {
   "cell_type": "code",
   "execution_count": 142,
   "id": "7b0658fe",
   "metadata": {},
   "outputs": [
    {
     "name": "stdout",
     "output_type": "stream",
     "text": [
      "DET: 0.12032\n",
      "NOUN: 0.185488\n",
      "AUX: 0.040902\n",
      "ADP: 0.095755\n",
      "PUNCT: 0.141068\n",
      "CCONJ: 0.027606\n",
      "ADV: 0.076795\n",
      "PRON: 0.054734\n",
      "ADJ: 0.060816\n",
      "NUM: 0.01586\n",
      "PROPN: 0.060995\n",
      "VERB: 0.07912\n",
      "SCONJ: 0.009599\n",
      "_: 0.016337\n",
      "PART: 0.01258\n",
      "X: 0.00155\n",
      "SYM: 0.000238\n",
      "INTJ: 0.000238\n"
     ]
    }
   ],
   "source": [
    "pos = list(pos_num.keys())\n",
    "pos_str = tagset.lookup_tokens(pos)\n",
    "for i in range(len(pos_str)):\n",
    "    print(f\"{pos_str[i]}: {round(pos_num[pos[i]]/pos_total, 6)}\")"
   ]
  }
 ],
 "metadata": {
  "kernelspec": {
   "display_name": "Python 3",
   "language": "python",
   "name": "python3"
  },
  "language_info": {
   "codemirror_mode": {
    "name": "ipython",
    "version": 3
   },
   "file_extension": ".py",
   "mimetype": "text/x-python",
   "name": "python",
   "nbconvert_exporter": "python",
   "pygments_lexer": "ipython3",
   "version": "3.9.5"
  }
 },
 "nbformat": 4,
 "nbformat_minor": 5
}
